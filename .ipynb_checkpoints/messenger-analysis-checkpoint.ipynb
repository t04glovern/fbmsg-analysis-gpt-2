{
 "cells": [
  {
   "cell_type": "code",
   "execution_count": null,
   "metadata": {},
   "outputs": [],
   "source": [
    "import os\n",
    "import json\n",
    "import random\n",
    "import re"
   ]
  },
  {
   "cell_type": "code",
   "execution_count": null,
   "metadata": {},
   "outputs": [],
   "source": [
    "!pip3 install -r requirements.txt"
   ]
  },
  {
   "cell_type": "code",
   "execution_count": null,
   "metadata": {},
   "outputs": [],
   "source": [
    "# Get List of files"
   ]
  },
  {
   "cell_type": "code",
   "execution_count": null,
   "metadata": {},
   "outputs": [],
   "source": [
    "files = []\n",
    "for p, d, f in os.walk('messages/inbox'):\n",
    "    for file in f:\n",
    "        if file.endswith('message.json'):\n",
    "            files.append(f'{p}/{file}')\n",
    "\n",
    "len(files)"
   ]
  },
  {
   "cell_type": "code",
   "execution_count": null,
   "metadata": {},
   "outputs": [],
   "source": [
    "def fix_encoding(s):\n",
    "  return re.sub('[\\xc2-\\xf4][\\x80-\\xbf]+',lambda m: m.group(0).encode('latin1').decode('utf8'),s)\n",
    "\n",
    "def find_cyrilic(s):\n",
    "    return len(re.findall('(?i)[А-ЯЁ]', s)) > 0\n",
    "\n",
    "def test_mostly_cyrilic(messages):\n",
    "  i = 0\n",
    "  check_n = min(250, len(messages))\n",
    "  for msg in random.sample(messages, check_n):\n",
    "    try:\n",
    "      i +=find_cyrilic(fix_encoding(msg['content'])) or find_cyrilic(fix_encoding(msg['sender_name']))\n",
    "    except KeyError:\n",
    "      check_n -=1\n",
    "  return i > check_n/5"
   ]
  },
  {
   "cell_type": "code",
   "execution_count": null,
   "metadata": {},
   "outputs": [],
   "source": [
    "text_corpus = ''\n",
    "banned_names = ('vladislav')\n",
    "for file in files:\n",
    "  with open(file, 'r') as f:\n",
    "      try:\n",
    "        msgs = json.load(f)['messages']\n",
    "        msgs.reverse()\n",
    "      except:\n",
    "        pass\n",
    "      else:\n",
    "        if not test_mostly_cyrilic(msgs) and not any(bn in file for bn in banned_names):\n",
    "        for msg in msgs:\n",
    "          try:\n",
    "            content = fix_encoding(msg['content'])\n",
    "            to_add  = f\"({msg['timestamp_ms']}) {msg['sender_name']}: {content}\\n\"\n",
    "            if not find_cyrilic(to_add):\n",
    "              text_corpus += to_add\n",
    "          except KeyError:\n",
    "            pass\n",
    "        print(file)\n",
    "        \n",
    "          text_corpus += '\\n\\n'"
   ]
  },
  {
   "cell_type": "code",
   "execution_count": null,
   "metadata": {},
   "outputs": [],
   "source": [
    "with open('fb-cleaned.txt', 'w') as f:\n",
    "  f.write(text_corpus)"
   ]
  },
  {
   "cell_type": "code",
   "execution_count": null,
   "metadata": {},
   "outputs": [],
   "source": [
    "!du -h fb-cleaned.txt"
   ]
  },
  {
   "cell_type": "code",
   "execution_count": null,
   "metadata": {},
   "outputs": [],
   "source": [
    "!PYTHONPATH=src ./encode.py --in-text fb-cleaned.txt --out-npz fb-cleaned.txt.npz"
   ]
  },
  {
   "cell_type": "code",
   "execution_count": null,
   "metadata": {},
   "outputs": [],
   "source": [
    "!PYTHONPATH=src ./train.py --dataset fb-cleaned.txt.npz --sample_every=250 --learning_rate=0.0001 --stop_after=251"
   ]
  },
  {
   "cell_type": "code",
   "execution_count": null,
   "metadata": {},
   "outputs": [],
   "source": [
    "!PYTHONPATH=src ./train.py --dataset fb-cleaned.txt.npz --sample_every=250 --learning_rate=0.001 --stop_after=751"
   ]
  },
  {
   "cell_type": "code",
   "execution_count": null,
   "metadata": {},
   "outputs": [],
   "source": [
    "!PYTHONPATH=src ./train.py --dataset fb-cleaned.txt.npz --sample_every=250 --learning_rate=0.0001 --beta=0.95 --stop_after=1251"
   ]
  },
  {
   "cell_type": "code",
   "execution_count": null,
   "metadata": {},
   "outputs": [],
   "source": [
    "cp -r /content/gpt-2/checkpoint/run1/* /content/gpt-2/models/117M/"
   ]
  },
  {
   "cell_type": "code",
   "execution_count": null,
   "metadata": {},
   "outputs": [],
   "source": [
    "!python3 src/generate_unconditional_samples.py --top_k 40 --temperature 0.9"
   ]
  },
  {
   "cell_type": "code",
   "execution_count": null,
   "metadata": {},
   "outputs": [],
   "source": [
    "def create_specific_file(person, files=files):\n",
    "  text_corpus = ''\n",
    "  for file in files:\n",
    "    if person in file:\n",
    "      print(file)\n",
    "      with open(file, 'r') as f:\n",
    "          try:\n",
    "            msgs = json.load(f)['messages']\n",
    "            msgs.reverse()\n",
    "          except:\n",
    "            pass\n",
    "          else:\n",
    "            for msg in msgs:\n",
    "              try:\n",
    "                content = fix_encoding(msg['content'])\n",
    "                to_add  = f\"({msg['timestamp_ms']}) {msg['sender_name']}: {content}\\n\"\n",
    "                if not find_cyrilic(to_add):\n",
    "                  text_corpus += to_add\n",
    "              except KeyError:\n",
    "                pass\n",
    "\n",
    "              text_corpus += '\\n\\n'\n",
    "      with open(f'fb-cleaned-{person}.txt', 'w') as f:\n",
    "        f.write(text_corpus)\n",
    "        return"
   ]
  }
 ],
 "metadata": {
  "kernelspec": {
   "display_name": "Python 3",
   "language": "python",
   "name": "python3"
  }
 },
 "nbformat": 4,
 "nbformat_minor": 2
}
